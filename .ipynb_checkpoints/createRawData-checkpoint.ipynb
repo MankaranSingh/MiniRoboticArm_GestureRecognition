{
 "cells": [
  {
   "cell_type": "code",
   "execution_count": null,
   "metadata": {},
   "outputs": [],
   "source": [
    "# Import Libraries\n",
    "import cv2\n",
    "import os\n",
    "import numpy as np"
   ]
  },
  {
   "cell_type": "code",
   "execution_count": null,
   "metadata": {},
   "outputs": [],
   "source": [
    "cap = cv2.VideoCapture(0)\n",
    "\n",
    "os.chdir('.\\\\RawData\\\\FOLDER_NAME')\n",
    "count = 0\n",
    "pause = True\n",
    "while cv2.waitKey(1):\n",
    "\n",
    "    _, frame = cap.read()\n",
    "    blur = cv2.GaussianBlur(frame, (5,5), 0)\n",
    "    \n",
    "    hsv = cv2.cvtColor(blur, cv2.COLOR_RGB2HSV)\n",
    "    \n",
    "    lower_skin = np.array([110, 25, 85])\n",
    "    upper_skin = np.array([179, 255, 255])\n",
    "    \n",
    "    mask = cv2.inRange(hsv, lower_skin, upper_skin)\n",
    "    blur = cv2.medianBlur(mask, 15)\n",
    "    kernel = cv2.getStructuringElement(cv2.MORPH_ELLIPSE, (8, 8))\n",
    "    hsv_d = cv2.dilate(blur, kernel)\n",
    "\n",
    "    cv2.rectangle(frame, (0, 0), (300, 300), (255, 0, 0), 2)\n",
    "    res = hsv_d[:300, :300]\n",
    "    res = cv2.resize(res, (150, 150))\n",
    "\n",
    "    count += 1\n",
    "    cv2.imshow('Original', frame)\n",
    "    cv2.imshow('Mask', hsv_d[:300,:300])\n",
    "\n",
    "    if cv2.waitKey(1) & 0xFF == ord('q'):\n",
    "        if pause:\n",
    "            pause = False\n",
    "        else:\n",
    "            pause = True\n",
    "\n",
    "    if pause:\n",
    "        continue\n",
    "    else:\n",
    "        cv2.imwrite('img' + str(count) + '.jpg', res)\n",
    "\n",
    "cv2.destroyAllWindows()\n",
    "cap.release()"
   ]
  }
 ],
 "metadata": {
  "kernelspec": {
   "display_name": "Python 3",
   "language": "python",
   "name": "python3"
  },
  "language_info": {
   "codemirror_mode": {
    "name": "ipython",
    "version": 3
   },
   "file_extension": ".py",
   "mimetype": "text/x-python",
   "name": "python",
   "nbconvert_exporter": "python",
   "pygments_lexer": "ipython3",
   "version": "3.7.1"
  }
 },
 "nbformat": 4,
 "nbformat_minor": 2
}
