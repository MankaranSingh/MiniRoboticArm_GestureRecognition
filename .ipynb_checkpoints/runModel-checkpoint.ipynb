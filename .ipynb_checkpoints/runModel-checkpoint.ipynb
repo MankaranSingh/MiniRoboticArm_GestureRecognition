{
 "cells": [
  {
   "cell_type": "code",
   "execution_count": null,
   "metadata": {},
   "outputs": [],
   "source": [
    "# Import Libraries\n",
    "import tflearn\n",
    "from tflearn.layers.conv import conv_2d, max_pool_2d\n",
    "from tflearn.layers.core import input_data, dropout, fully_connected\n",
    "from tflearn.layers.estimator import regression\n",
    "from tflearn.layers.normalization import local_response_normalization\n",
    "import tensorflow as tf\n",
    "\n",
    "import cv2\n",
    "import numpy as np"
   ]
  },
  {
   "cell_type": "code",
   "execution_count": null,
   "metadata": {},
   "outputs": [],
   "source": [
    "# Model parameters\n",
    "WIDTH = 150\n",
    "HEIGHT = 150\n",
    "LR = 1e-3\n",
    "EPOCHS = 6"
   ]
  },
  {
   "cell_type": "code",
   "execution_count": null,
   "metadata": {},
   "outputs": [],
   "source": [
    "# labels (for images)\n",
    "a = [1,0,0]\n",
    "b = [0,1,0]\n",
    "c = [0,0,1]"
   ]
  },
  {
   "cell_type": "code",
   "execution_count": null,
   "metadata": {},
   "outputs": [],
   "source": [
    "def one_hot_to_label(one_hot):\n",
    "    if one_hot == a:\n",
    "        return 'Fist'\n",
    "    if one_hot == b:\n",
    "        return 'OpenHand'\n",
    "    if one_hot == c:\n",
    "        return 'TwoFinger'"
   ]
  },
  {
   "cell_type": "code",
   "execution_count": null,
   "metadata": {},
   "outputs": [],
   "source": [
    "def alexnet(width, height, lr):\n",
    "    network = input_data(shape=[None, width, height, 1], name='input')\n",
    "    network = conv_2d(network, 96, 11, strides=4, activation='relu')\n",
    "    network = max_pool_2d(network, 3, strides=2)\n",
    "    network = local_response_normalization(network)\n",
    "    network = conv_2d(network, 256, 5, activation='relu')\n",
    "    network = max_pool_2d(network, 3, strides=2)\n",
    "    network = local_response_normalization(network)\n",
    "    network = conv_2d(network, 384, 3, activation='relu')\n",
    "    network = conv_2d(network, 384, 3, activation='relu')\n",
    "    network = conv_2d(network, 256, 3, activation='relu')\n",
    "    network = max_pool_2d(network, 3, strides=2)\n",
    "    network = local_response_normalization(network)\n",
    "    network = fully_connected(network, 4096, activation='tanh')\n",
    "    network = dropout(network, 0.5)\n",
    "    network = fully_connected(network, 4096, activation='tanh')\n",
    "    network = dropout(network, 0.5)\n",
    "    network = fully_connected(network, 3, activation='softmax')\n",
    "    network = regression(network, optimizer='momentum',\n",
    "                         loss='categorical_crossentropy',\n",
    "                         learning_rate=lr, name='targets')\n",
    "\n",
    "    model = tflearn.DNN(network, checkpoint_path='model_alexnet',\n",
    "                        max_checkpoints=1, tensorboard_verbose=2, tensorboard_dir='log')\n",
    "    return model"
   ]
  },
  {
   "cell_type": "code",
   "execution_count": null,
   "metadata": {},
   "outputs": [],
   "source": [
    "tf.reset_default_graph()"
   ]
  },
  {
   "cell_type": "code",
   "execution_count": null,
   "metadata": {},
   "outputs": [],
   "source": [
    "model = alexnet(WIDTH, HEIGHT, LR)"
   ]
  },
  {
   "cell_type": "code",
   "execution_count": null,
   "metadata": {},
   "outputs": [],
   "source": [
    "model.load('./model_ver10')"
   ]
  },
  {
   "cell_type": "code",
   "execution_count": null,
   "metadata": {},
   "outputs": [],
   "source": [
    "cap = cv2.VideoCapture(0)\n",
    "while cv2.waitKey(1):\n",
    "\n",
    "    _, frame = cap.read()                      \n",
    "    blur = cv2.GaussianBlur(frame, (5,5), 0)\n",
    "    \n",
    "    hsv = cv2.cvtColor(blur, cv2.COLOR_RGB2HSV)\n",
    "    \n",
    "    lower_skin = np.array([110, 25, 85])\n",
    "    upper_skin = np.array([179, 255, 255])\n",
    "    \n",
    "    mask = cv2.inRange(hsv, lower_skin, upper_skin)\n",
    "    blur = cv2.medianBlur(mask, 15)\n",
    "    kernel = cv2.getStructuringElement(cv2.MORPH_ELLIPSE, (8, 8))\n",
    "    hsv_d = cv2.dilate(blur, kernel)\n",
    "\n",
    "    cv2.rectangle(frame, (0, 0), (300, 300), (255, 0, 0), 2)\n",
    "    \n",
    "    final = cv2.resize(hsv_d[:300, :300], (150, 150))\n",
    "    one_hot = list(np.around(model.predict([final.reshape(150, 150, 1)])[0]))\n",
    "    prediction = one_hot_to_label(one_hot)\n",
    "    cv2.putText(hsv_d,prediction, (5,25), cv2.FONT_HERSHEY_SIMPLEX, 1, (255,255,255), 2)\n",
    "    cv2.imshow('Original', frame)\n",
    "    cv2.imshow('Mask', hsv_d[:300, :300])\n",
    "    \n",
    "cv2.destroyAllWindows()\n",
    "cap.release()"
   ]
  }
 ],
 "metadata": {
  "kernelspec": {
   "display_name": "Python 3",
   "language": "python",
   "name": "python3"
  },
  "language_info": {
   "codemirror_mode": {
    "name": "ipython",
    "version": 3
   },
   "file_extension": ".py",
   "mimetype": "text/x-python",
   "name": "python",
   "nbconvert_exporter": "python",
   "pygments_lexer": "ipython3",
   "version": "3.7.1"
  }
 },
 "nbformat": 4,
 "nbformat_minor": 2
}
